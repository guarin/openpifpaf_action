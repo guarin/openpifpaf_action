{
 "cells": [
  {
   "cell_type": "code",
   "execution_count": 1,
   "metadata": {},
   "outputs": [],
   "source": [
    "%load_ext autoreload\n",
    "%autoreload 2"
   ]
  },
  {
   "cell_type": "code",
   "execution_count": 2,
   "metadata": {},
   "outputs": [],
   "source": [
    "import json\n",
    "import numpy as np\n",
    "from openpifpaf_action_prediction import utils\n",
    "from openpifpaf_action_prediction import voc_eval\n",
    "from openpifpaf_action_prediction import datasets\n",
    "import matplotlib.pyplot as plt\n",
    "import glob\n",
    "import os\n",
    "import copy\n",
    "from collections import defaultdict\n",
    "from sklearn import linear_model\n",
    "from sklearn import neural_network\n",
    "from sklearn import model_selection\n",
    "import pandas as pd"
   ]
  },
  {
   "cell_type": "code",
   "execution_count": 3,
   "metadata": {},
   "outputs": [],
   "source": [
    "set_dir = 'data/voc2012/image_sets/action'\n",
    "set_name = 'val'\n",
    "anns_dir = 'data/voc2012/annotations'\n",
    "voc_devkit_dir = '/Users/guarin/data_science/semester_project/VOCdevkit'"
   ]
  },
  {
   "cell_type": "code",
   "execution_count": 4,
   "metadata": {},
   "outputs": [],
   "source": [
    "train_files = glob.glob(f'outputs/voc_03_271/train_raw_epoch400/*json')\n",
    "train_pred_anns = dict(voc_eval.load_json(file) for file in train_files)\n",
    "val_files = glob.glob(f'outputs/voc_03_271/val_raw_epoch400/*json')\n",
    "val_pred_anns = dict(voc_eval.load_json(file) for file in val_files)"
   ]
  },
  {
   "cell_type": "code",
   "execution_count": 5,
   "metadata": {},
   "outputs": [],
   "source": [
    "all_anns = voc_eval.load_eval_anns(anns_dir)\n",
    "train_ids = set(np.loadtxt(os.path.join(set_dir, f\"train.txt\"), dtype=str))\n",
    "val_ids = set(np.loadtxt(os.path.join(set_dir, f\"val.txt\"), dtype=str))\n",
    "train_eval_anns = {\n",
    "    file[:-4]: anns for file, anns in all_anns.items() if file[:-4] in train_ids\n",
    "}\n",
    "val_eval_anns = {\n",
    "    file[:-4]: anns for file, anns in all_anns.items() if file[:-4] in val_ids\n",
    "}"
   ]
  },
  {
   "cell_type": "code",
   "execution_count": 6,
   "metadata": {},
   "outputs": [],
   "source": [
    "def eval_(anns, eval_anns, set_name):\n",
    "    return voc_eval.voc_eval(pred_anns=anns, method='bbox', threshold=0.3, set_name=set_name, temp_dir='temp_dir', set_dir=set_dir, eval_anns=eval_anns, voc_devkit_dir=voc_devkit_dir, return_matcher=True)\n",
    "\n",
    "def apply_strategy(anns, strategy_fun):\n",
    "    new_anns = dict()\n",
    "    for file, file_anns in anns.items():\n",
    "        new_anns[file] = []\n",
    "        for a in file_anns:\n",
    "            a = copy.deepcopy(a)\n",
    "            probability_fields = np.array(a['action_probability_fields']).astype(float)\n",
    "            probabilities = strategy_fun(a, probability_fields)\n",
    "            a['action_probabilities'] = probabilities\n",
    "            new_anns[file].append(a)\n",
    "    return new_anns\n",
    "\n",
    "def mean_strategy(ann, probability_fields):\n",
    "    probabilities = [\n",
    "        p for p in probability_fields if (p.size > 0) and not np.isnan(p).all()\n",
    "    ]\n",
    "    if len(probabilities) > 0:\n",
    "        probabilities = np.nanmean(\n",
    "            np.array(probabilities), (0, 2, 3)\n",
    "        ).tolist()\n",
    "    else:\n",
    "        probabilities = [None] * probability_fields.shape[0]\n",
    "    return probabilities\n",
    "\n",
    "def point_mean(ann):\n",
    "    probability_fields = np.array(ann['action_probability_fields']).astype(float)\n",
    "    probabilities = []\n",
    "    for i, p in enumerate(probability_fields):\n",
    "        if (p.size > 0) and not np.isnan(p).all():\n",
    "            probabilities.append(np.nanmean(p, (1, 2)))\n",
    "        else:\n",
    "            probabilities.append(np.full(p.shape[0], np.nan, dtype=float))\n",
    "    return probabilities\n",
    "\n",
    "def max_strategy(ann, probability_fields):\n",
    "    probabilities = [\n",
    "        p for p in probability_fields if (p.size > 0) and not np.isnan(p).all()\n",
    "    ]\n",
    "    if len(probabilities) > 0:\n",
    "        probabilities = np.nanmax(\n",
    "            np.array(probabilities), (0, 2, 3)\n",
    "        ).tolist()\n",
    "    else:\n",
    "        probabilities = [None] * probability_fields.shape[0]\n",
    "    return probabilities\n",
    "\n",
    "def mean_strategy(ann, probability_fields):\n",
    "    probabilities = [\n",
    "        p for p in probability_fields if (p.size > 0) and not np.isnan(p).all()\n",
    "    ]\n",
    "    if len(probabilities) > 0:\n",
    "        probabilities = np.nanmean(\n",
    "            np.array(probabilities), (0, 2, 3)\n",
    "        ).tolist()\n",
    "    else:\n",
    "        probabilities = [None] * probability_fields.shape[0]\n",
    "    return probabilities\n",
    "\n",
    "def min_strategy(ann, probability_fields):\n",
    "    probabilities = [\n",
    "        p for p in probability_fields if (p.size > 0) and not np.isnan(p).all()\n",
    "    ]\n",
    "    if len(probabilities) > 0:\n",
    "        probabilities = np.nanmin(\n",
    "            np.array(probabilities), (0, 2, 3)\n",
    "        ).tolist()\n",
    "    else:\n",
    "        probabilities = [None] * probability_fields.shape[0]\n",
    "    return probabilities\n",
    "\n",
    "def median_strategy(ann, probability_fields):\n",
    "    probabilities = [\n",
    "        p for p in probability_fields if (p.size > 0) and not np.isnan(p).all()\n",
    "    ]\n",
    "    if len(probabilities) > 0:\n",
    "        probabilities = np.nanmedian(\n",
    "            np.array(probabilities), (0, 2, 3)\n",
    "        ).tolist()\n",
    "    else:\n",
    "        probabilities = [None] * probability_fields.shape[0]\n",
    "    return probabilities\n",
    "\n",
    "def weighted_mean_strategy(ann, probability_fields):\n",
    "    probabilities = np.array([\n",
    "        p for p in probability_fields if (p.size > 0) and not np.isnan(p).all()\n",
    "    ])\n",
    "    if len(probabilities) > 0:\n",
    "        side_length = probabilities.shape[2]\n",
    "        factor = np.ones((side_length, side_length))\n",
    "        for i in range(side_length // 2 + 1):\n",
    "            factor[i:-i, i:-i] += 1\n",
    "        means = []\n",
    "        for kp_prob in probabilities:\n",
    "            kp_factor = factor.copy()\n",
    "            kp_factor[np.isnan(kp_prob[0])] = 0.0\n",
    "            kp_factor = kp_factor / kp_factor.sum()\n",
    "            kp_mean = np.nansum(kp_factor * kp_prob, (1, 2))\n",
    "            means.append(kp_mean)\n",
    "        probabilities = np.mean(means, 0)\n",
    "        \n",
    "    else:\n",
    "        probabilities = [None] * probability_fields.shape[0]\n",
    "    return probabilities\n",
    "\n",
    "def center_strategy(ann, probability_fields):\n",
    "    probabilities = np.array([\n",
    "        p for p in probability_fields if (p.size > 0) and not np.isnan(p).all()\n",
    "    ])\n",
    "    if len(probabilities) > 0:\n",
    "        side_length = probabilities.shape[-1]\n",
    "        assert side_length > 0\n",
    "        radius = side_length // 2\n",
    "        probabilities = np.nanmean(probabilities[:, :, radius:radius+1, radius:radius+1], (0, 2, 3))\n",
    "        probabilities = [p if p != np.nan else None for p in probabilities]\n",
    "    else:\n",
    "        probabilities = [None] * probability_fields.shape[0]\n",
    "    return probabilities"
   ]
  },
  {
   "cell_type": "markdown",
   "metadata": {},
   "source": [
    "## Decoding Strategies"
   ]
  },
  {
   "cell_type": "code",
   "execution_count": 7,
   "metadata": {},
   "outputs": [],
   "source": [
    "strategies = {\n",
    "    'min': min_strategy,\n",
    "    'max': max_strategy,\n",
    "    'median': median_strategy,\n",
    "    'mean': mean_strategy,\n",
    "    'weighted_mean': weighted_mean_strategy,\n",
    "    'center': center_strategy,\n",
    "}\n",
    "\n",
    "pred_anns = {\n",
    "    'train': train_pred_anns,\n",
    "    'val': val_pred_anns\n",
    "}\n",
    "\n",
    "eval_anns = {\n",
    "    'train': train_eval_anns,\n",
    "    'val': val_eval_anns\n",
    "}"
   ]
  },
  {
   "cell_type": "code",
   "execution_count": 8,
   "metadata": {},
   "outputs": [
    {
     "name": "stderr",
     "output_type": "stream",
     "text": [
      "/Users/guarin/data_science/semester_project/pifpaf_plugins/openpifpaf_vcoco/env/lib/python3.7/site-packages/ipykernel_launcher.py:116: RuntimeWarning: Mean of empty slice\n"
     ]
    }
   ],
   "source": [
    "results = {}\n",
    "for set_ in ['train', 'val']:\n",
    "    for name, strategy in strategies.items():\n",
    "        anns = apply_strategy(pred_anns[set_], strategy)\n",
    "        results[(set_, name)] = eval_(anns, eval_anns[set_], set_)"
   ]
  },
  {
   "cell_type": "code",
   "execution_count": 10,
   "metadata": {},
   "outputs": [],
   "source": [
    "def result_df(results):\n",
    "    columns = ['set', 'strategy', 'mAP', 'mAP matched']\n",
    "    rows = []\n",
    "    for (set_, name), (all_result, matched_result, _) in results.items():\n",
    "        rows.append([set_, name, all_result[0], matched_result[0]])\n",
    "    df = pd.DataFrame(rows, columns=columns)\n",
    "    df = df.sort_values(['set', 'mAP'])\n",
    "    df = df.reset_index(drop=True)\n",
    "    return df"
   ]
  },
  {
   "cell_type": "code",
   "execution_count": 11,
   "metadata": {},
   "outputs": [
    {
     "data": {
      "text/html": [
       "<div>\n",
       "<style scoped>\n",
       "    .dataframe tbody tr th:only-of-type {\n",
       "        vertical-align: middle;\n",
       "    }\n",
       "\n",
       "    .dataframe tbody tr th {\n",
       "        vertical-align: top;\n",
       "    }\n",
       "\n",
       "    .dataframe thead th {\n",
       "        text-align: right;\n",
       "    }\n",
       "</style>\n",
       "<table border=\"1\" class=\"dataframe\">\n",
       "  <thead>\n",
       "    <tr style=\"text-align: right;\">\n",
       "      <th></th>\n",
       "      <th>set</th>\n",
       "      <th>strategy</th>\n",
       "      <th>mAP</th>\n",
       "      <th>mAP matched</th>\n",
       "    </tr>\n",
       "  </thead>\n",
       "  <tbody>\n",
       "    <tr>\n",
       "      <th>0</th>\n",
       "      <td>train</td>\n",
       "      <td>min</td>\n",
       "      <td>0.837629</td>\n",
       "      <td>0.851216</td>\n",
       "    </tr>\n",
       "    <tr>\n",
       "      <th>1</th>\n",
       "      <td>train</td>\n",
       "      <td>max</td>\n",
       "      <td>0.943803</td>\n",
       "      <td>0.959212</td>\n",
       "    </tr>\n",
       "    <tr>\n",
       "      <th>2</th>\n",
       "      <td>train</td>\n",
       "      <td>median</td>\n",
       "      <td>0.962038</td>\n",
       "      <td>0.977801</td>\n",
       "    </tr>\n",
       "    <tr>\n",
       "      <th>3</th>\n",
       "      <td>train</td>\n",
       "      <td>weighted_mean</td>\n",
       "      <td>0.963164</td>\n",
       "      <td>0.978928</td>\n",
       "    </tr>\n",
       "    <tr>\n",
       "      <th>4</th>\n",
       "      <td>train</td>\n",
       "      <td>mean</td>\n",
       "      <td>0.964042</td>\n",
       "      <td>0.979827</td>\n",
       "    </tr>\n",
       "    <tr>\n",
       "      <th>5</th>\n",
       "      <td>train</td>\n",
       "      <td>center</td>\n",
       "      <td>0.964150</td>\n",
       "      <td>0.979935</td>\n",
       "    </tr>\n",
       "    <tr>\n",
       "      <th>6</th>\n",
       "      <td>val</td>\n",
       "      <td>min</td>\n",
       "      <td>0.685299</td>\n",
       "      <td>0.693996</td>\n",
       "    </tr>\n",
       "    <tr>\n",
       "      <th>7</th>\n",
       "      <td>val</td>\n",
       "      <td>max</td>\n",
       "      <td>0.809548</td>\n",
       "      <td>0.820199</td>\n",
       "    </tr>\n",
       "    <tr>\n",
       "      <th>8</th>\n",
       "      <td>val</td>\n",
       "      <td>median</td>\n",
       "      <td>0.838892</td>\n",
       "      <td>0.850147</td>\n",
       "    </tr>\n",
       "    <tr>\n",
       "      <th>9</th>\n",
       "      <td>val</td>\n",
       "      <td>weighted_mean</td>\n",
       "      <td>0.842399</td>\n",
       "      <td>0.853709</td>\n",
       "    </tr>\n",
       "    <tr>\n",
       "      <th>10</th>\n",
       "      <td>val</td>\n",
       "      <td>center</td>\n",
       "      <td>0.844172</td>\n",
       "      <td>0.855501</td>\n",
       "    </tr>\n",
       "    <tr>\n",
       "      <th>11</th>\n",
       "      <td>val</td>\n",
       "      <td>mean</td>\n",
       "      <td>0.844815</td>\n",
       "      <td>0.856167</td>\n",
       "    </tr>\n",
       "  </tbody>\n",
       "</table>\n",
       "</div>"
      ],
      "text/plain": [
       "      set       strategy       mAP  mAP matched\n",
       "0   train            min  0.837629     0.851216\n",
       "1   train            max  0.943803     0.959212\n",
       "2   train         median  0.962038     0.977801\n",
       "3   train  weighted_mean  0.963164     0.978928\n",
       "4   train           mean  0.964042     0.979827\n",
       "5   train         center  0.964150     0.979935\n",
       "6     val            min  0.685299     0.693996\n",
       "7     val            max  0.809548     0.820199\n",
       "8     val         median  0.838892     0.850147\n",
       "9     val  weighted_mean  0.842399     0.853709\n",
       "10    val         center  0.844172     0.855501\n",
       "11    val           mean  0.844815     0.856167"
      ]
     },
     "execution_count": 11,
     "metadata": {},
     "output_type": "execute_result"
    }
   ],
   "source": [
    "result_df(results)"
   ]
  },
  {
   "cell_type": "code",
   "execution_count": 12,
   "metadata": {},
   "outputs": [],
   "source": [
    "train_matcher = results[('train', 'mean')][-1]"
   ]
  },
  {
   "cell_type": "code",
   "execution_count": 13,
   "metadata": {},
   "outputs": [],
   "source": [
    "train_probabilities = np.array([point_mean(a[1]) for a in train_matcher.inner_matches()])\n",
    "train_labels = np.array([a[0]['action_labels'] for a in train_matcher.inner_matches()])"
   ]
  },
  {
   "cell_type": "code",
   "execution_count": 14,
   "metadata": {},
   "outputs": [
    {
     "data": {
      "image/png": "[encoded data removed]",
      "text/plain": [
       "<Figure size 648x864 with 2 Axes>"
      ]
     },
     "metadata": {
      "needs_background": "light"
     },
     "output_type": "display_data"
    }
   ],
   "source": [
    "fig, (ax1, ax2) = plt.subplots(ncols=2, sharey=True, figsize=(9, 12))\n",
    "colors = ['blue', 'orange', 'green', 'red']\n",
    "for i, action in enumerate(datasets.voc2012.ACTIONS):\n",
    "    t_preds = train_probabilities[train_labels[:, i] == 1][..., i]\n",
    "    f_preds = train_probabilities[train_labels[:, i] == 0][..., i]\n",
    "\n",
    "    for ax, preds in zip([ax1, ax2], [t_preds, f_preds]):\n",
    "        nose = preds[:, 0]\n",
    "        hips = preds[:, 1]\n",
    "        wrists = preds[:, 2:4]\n",
    "        ankles = preds[:, 4:6]\n",
    "        for j, (part, color) in enumerate(zip([nose, hips, wrists, ankles], colors)):\n",
    "            width = [np.nanmean(part)]\n",
    "            xerr = [[0.0], [np.nanstd(part)]]\n",
    "            ax.barh([-i - j/5], width=width, xerr=xerr, height=0.1, color=color, ecolor='gray')\n",
    "            \n",
    "ax1.set_yticks(ticks=-np.arange(11) - 0.3)\n",
    "ax1.set_yticklabels(labels=datasets.voc2012.ACTIONS)\n",
    "ax2.legend(['Nose', 'Hips', 'Wrists', 'Ankles'])\n",
    "ax1.set_title('Label = True')\n",
    "ax2.set_title('Label = False')\n",
    "ax1.set_xlabel('Action Probabilitiy')\n",
    "ax2.set_xlabel('Action Probabilitiy')\n",
    "plt.savefig('point_action_correlation.png')\n",
    "plt.show();"
   ]
  },
  {
   "cell_type": "code",
   "execution_count": 15,
   "metadata": {},
   "outputs": [],
   "source": [
    "def field_stats(a):\n",
    "    probability_fields = np.array(a['action_probability_fields']).astype(float)\n",
    "    shape = probability_fields.shape\n",
    "    stats = np.full((shape[0], 4, shape[1]), fill_value=-1.0)\n",
    "    for i, p in enumerate(probability_fields):\n",
    "        if (p.size == 0) or np.isnan(p).all():\n",
    "            continue\n",
    "        else:\n",
    "            stats[i, 0] = np.nanmax(p, (1, 2))\n",
    "            stats[i, 1] = np.nanmin(p, (1, 2))\n",
    "            stats[i, 2] = np.nanmean(p, (1, 2))\n",
    "            stats[i, 3] = np.nanmedian(p, (1, 2))\n",
    "    return stats\n",
    "\n",
    "def models_strategy(models, mean=None, std=None, normalize=False):\n",
    "    def inner(ann, probability_fields):\n",
    "        probabilities = []\n",
    "        x = np.array(field_stats(ann)).flatten()\n",
    "        x[np.isnan(x)] = -1\n",
    "        if normalize:\n",
    "            x = (x - mean) / std\n",
    "        for model in models:\n",
    "            probabilities.append(model.predict_proba([x])[0, 1].tolist())\n",
    "        return probabilities\n",
    "    return inner\n",
    "\n",
    "def model_strategy(model):\n",
    "    def inner(ann, probability_fields):\n",
    "        x = np.array(field_stats(ann)).flatten()\n",
    "        x[np.isnan(x)] = -1\n",
    "        return model.predict_proba([x])[0].tolist()\n",
    "    return inner "
   ]
  },
  {
   "cell_type": "markdown",
   "metadata": {},
   "source": [
    "## Preparing Training Data"
   ]
  },
  {
   "cell_type": "code",
   "execution_count": 16,
   "metadata": {},
   "outputs": [],
   "source": [
    "train_mean_inner = train_matcher.inner_matches()\n",
    "train_stats = np.array([field_stats(a[1]) for a in train_mean_inner])"
   ]
  },
  {
   "cell_type": "code",
   "execution_count": 17,
   "metadata": {},
   "outputs": [
    {
     "data": {
      "text/plain": [
       "((3089, 264), (3089, 11))"
      ]
     },
     "execution_count": 17,
     "metadata": {},
     "output_type": "execute_result"
    }
   ],
   "source": [
    "x = train_stats.reshape(-1, np.product(train_stats.shape[1:])).copy()\n",
    "y = train_labels.copy()\n",
    "x[np.isnan(x)] = -1\n",
    "x_mean = np.mean(x, 0)\n",
    "x_std = np.std(x, 0)\n",
    "x_norm = (x - x_mean) / x_std\n",
    "x.shape, y.shape"
   ]
  },
  {
   "cell_type": "markdown",
   "metadata": {},
   "source": [
    "## Logistic Regression"
   ]
  },
  {
   "cell_type": "code",
   "execution_count": 18,
   "metadata": {},
   "outputs": [
    {
     "name": "stdout",
     "output_type": "stream",
     "text": [
      "Training jumping\n",
      "Training other\n",
      "Training phoning\n",
      "Training playinginstrument\n",
      "Training reading\n",
      "Training ridingbike\n",
      "Training ridinghorse\n",
      "Training running\n",
      "Training takingphoto\n",
      "Training usingcomputer\n",
      "Training walking\n"
     ]
    }
   ],
   "source": [
    "models = defaultdict(dict)\n",
    "for i, action in enumerate(datasets.voc2012.ACTIONS):\n",
    "    print(f'Training {action}')\n",
    "    logreg = linear_model.LogisticRegressionCV(max_iter=10000, random_state=0)\n",
    "    logreg.fit(x, y[:, i])\n",
    "    models['logreg'][action] = logreg"
   ]
  },
  {
   "cell_type": "code",
   "execution_count": 19,
   "metadata": {},
   "outputs": [
    {
     "name": "stdout",
     "output_type": "stream",
     "text": [
      "Training jumping\n",
      "Training other\n",
      "Training phoning\n",
      "Training playinginstrument\n",
      "Training reading\n",
      "Training ridingbike\n",
      "Training ridinghorse\n",
      "Training running\n",
      "Training takingphoto\n",
      "Training usingcomputer\n",
      "Training walking\n"
     ]
    }
   ],
   "source": [
    "for i, action in enumerate(datasets.voc2012.ACTIONS):\n",
    "    print(f'Training {action}')\n",
    "    logreg = linear_model.LogisticRegressionCV(max_iter=10000, random_state=0)\n",
    "    logreg.fit(x_norm, y[:, i])\n",
    "    models['norm logreg'][action] = logreg"
   ]
  },
  {
   "cell_type": "markdown",
   "metadata": {},
   "source": [
    "## MLP"
   ]
  },
  {
   "cell_type": "code",
   "execution_count": 20,
   "metadata": {},
   "outputs": [
    {
     "name": "stdout",
     "output_type": "stream",
     "text": [
      "(20, 20) 1.0 0.9722699435203881 [0.97240093 0.97873319 0.95920829 0.97111563 0.97989168]\n",
      "(20, 20) 0.1 0.9734862432673832 [0.97749889 0.97657527 0.9628274  0.97144906 0.9790806 ]\n",
      "(20, 20) 0.01 0.9734507116057755 [0.97736023 0.98097749 0.96054792 0.96985775 0.97851017]\n",
      "(20, 20) 0.001 0.9735654963717829 [0.97734931 0.98106445 0.96063918 0.9701488  0.97862574]\n",
      "(20, 20) 0.0001 0.9742072041745798 [0.97744092 0.98078405 0.9639665  0.970128   0.97871655]\n",
      "(50, 50) 1.0 0.9764089045696285 [0.98166099 0.98466686 0.96570206 0.96914953 0.98086508]\n",
      "(50, 50) 0.1 0.9767119105940131 [0.98182065 0.98536794 0.9642151  0.97093561 0.98122025]\n",
      "(50, 50) 0.01 0.9761007700350752 [0.98243297 0.98435612 0.96294085 0.97075634 0.98001758]\n",
      "(50, 50) 0.001 0.9757345389216748 [0.98134898 0.98454003 0.96361833 0.97096578 0.97819957]\n",
      "(50, 50) 0.0001 0.9759089150745026 [0.98170307 0.98536112 0.96315294 0.97101232 0.97831511]\n"
     ]
    }
   ],
   "source": [
    "sizes = [\n",
    "    (20, 20),\n",
    "    (50, 50),\n",
    "]\n",
    "alphas = [\n",
    "    1.0,\n",
    "    0.1,\n",
    "    0.01,\n",
    "    0.001,\n",
    "    0.0001,\n",
    "]\n",
    "\n",
    "for size in sizes:\n",
    "    for alpha in alphas:\n",
    "        mlp = neural_network.MLPClassifier(size, alpha=alpha, max_iter=1000, early_stopping=True, random_state=0)\n",
    "        scores = model_selection.cross_validate(mlp, x, y, scoring='average_precision')  \n",
    "        test_score = scores['test_score']\n",
    "        print(f'{size} {alpha} {np.mean(test_score)} {test_score}')"
   ]
  },
  {
   "cell_type": "code",
   "execution_count": 21,
   "metadata": {},
   "outputs": [
    {
     "data": {
      "text/plain": [
       "MLPClassifier(alpha=0.1, early_stopping=True, hidden_layer_sizes=(50, 50),\n",
       "              max_iter=1000, random_state=0)"
      ]
     },
     "execution_count": 21,
     "metadata": {},
     "output_type": "execute_result"
    }
   ],
   "source": [
    "mlp = neural_network.MLPClassifier((50, 50), alpha=0.1, max_iter=1000, early_stopping=True, random_state=0)\n",
    "mlp.fit(x, y)"
   ]
  },
  {
   "cell_type": "code",
   "execution_count": 22,
   "metadata": {},
   "outputs": [],
   "source": [
    "model_strategies = {\n",
    "    'logreg': models_strategy(models['logreg'].values()),\n",
    "    'norm logreg': models_strategy(models['norm logreg'].values(), x_mean, x_std, normalize=True),\n",
    "    'mlp': model_strategy(mlp)\n",
    "}"
   ]
  },
  {
   "cell_type": "code",
   "execution_count": 23,
   "metadata": {},
   "outputs": [],
   "source": [
    "for set_ in ['train', 'val']:\n",
    "    for name, strategy in model_strategies.items():\n",
    "        anns = apply_strategy(pred_anns[set_], strategy)\n",
    "        results[(set_, name)] = eval_(anns, eval_anns[set_], set_)"
   ]
  },
  {
   "cell_type": "code",
   "execution_count": 24,
   "metadata": {},
   "outputs": [
    {
     "data": {
      "text/html": [
       "<div>\n",
       "<style scoped>\n",
       "    .dataframe tbody tr th:only-of-type {\n",
       "        vertical-align: middle;\n",
       "    }\n",
       "\n",
       "    .dataframe tbody tr th {\n",
       "        vertical-align: top;\n",
       "    }\n",
       "\n",
       "    .dataframe thead th {\n",
       "        text-align: right;\n",
       "    }\n",
       "</style>\n",
       "<table border=\"1\" class=\"dataframe\">\n",
       "  <thead>\n",
       "    <tr style=\"text-align: right;\">\n",
       "      <th></th>\n",
       "      <th>set</th>\n",
       "      <th>strategy</th>\n",
       "      <th>mAP</th>\n",
       "      <th>mAP matched</th>\n",
       "    </tr>\n",
       "  </thead>\n",
       "  <tbody>\n",
       "    <tr>\n",
       "      <th>0</th>\n",
       "      <td>train</td>\n",
       "      <td>min</td>\n",
       "      <td>0.837629</td>\n",
       "      <td>0.851216</td>\n",
       "    </tr>\n",
       "    <tr>\n",
       "      <th>1</th>\n",
       "      <td>train</td>\n",
       "      <td>max</td>\n",
       "      <td>0.943803</td>\n",
       "      <td>0.959212</td>\n",
       "    </tr>\n",
       "    <tr>\n",
       "      <th>2</th>\n",
       "      <td>train</td>\n",
       "      <td>median</td>\n",
       "      <td>0.962038</td>\n",
       "      <td>0.977801</td>\n",
       "    </tr>\n",
       "    <tr>\n",
       "      <th>3</th>\n",
       "      <td>train</td>\n",
       "      <td>weighted_mean</td>\n",
       "      <td>0.963164</td>\n",
       "      <td>0.978928</td>\n",
       "    </tr>\n",
       "    <tr>\n",
       "      <th>4</th>\n",
       "      <td>train</td>\n",
       "      <td>mean</td>\n",
       "      <td>0.964042</td>\n",
       "      <td>0.979827</td>\n",
       "    </tr>\n",
       "    <tr>\n",
       "      <th>5</th>\n",
       "      <td>train</td>\n",
       "      <td>center</td>\n",
       "      <td>0.964150</td>\n",
       "      <td>0.979935</td>\n",
       "    </tr>\n",
       "    <tr>\n",
       "      <th>6</th>\n",
       "      <td>train</td>\n",
       "      <td>mlp</td>\n",
       "      <td>0.972242</td>\n",
       "      <td>0.988167</td>\n",
       "    </tr>\n",
       "    <tr>\n",
       "      <th>7</th>\n",
       "      <td>train</td>\n",
       "      <td>logreg</td>\n",
       "      <td>0.972398</td>\n",
       "      <td>0.988329</td>\n",
       "    </tr>\n",
       "    <tr>\n",
       "      <th>8</th>\n",
       "      <td>train</td>\n",
       "      <td>norm logreg</td>\n",
       "      <td>0.973629</td>\n",
       "      <td>0.989607</td>\n",
       "    </tr>\n",
       "    <tr>\n",
       "      <th>9</th>\n",
       "      <td>val</td>\n",
       "      <td>min</td>\n",
       "      <td>0.685299</td>\n",
       "      <td>0.693996</td>\n",
       "    </tr>\n",
       "    <tr>\n",
       "      <th>10</th>\n",
       "      <td>val</td>\n",
       "      <td>max</td>\n",
       "      <td>0.809548</td>\n",
       "      <td>0.820199</td>\n",
       "    </tr>\n",
       "    <tr>\n",
       "      <th>11</th>\n",
       "      <td>val</td>\n",
       "      <td>median</td>\n",
       "      <td>0.838892</td>\n",
       "      <td>0.850147</td>\n",
       "    </tr>\n",
       "    <tr>\n",
       "      <th>12</th>\n",
       "      <td>val</td>\n",
       "      <td>weighted_mean</td>\n",
       "      <td>0.842399</td>\n",
       "      <td>0.853709</td>\n",
       "    </tr>\n",
       "    <tr>\n",
       "      <th>13</th>\n",
       "      <td>val</td>\n",
       "      <td>center</td>\n",
       "      <td>0.844172</td>\n",
       "      <td>0.855501</td>\n",
       "    </tr>\n",
       "    <tr>\n",
       "      <th>14</th>\n",
       "      <td>val</td>\n",
       "      <td>mean</td>\n",
       "      <td>0.844815</td>\n",
       "      <td>0.856167</td>\n",
       "    </tr>\n",
       "    <tr>\n",
       "      <th>15</th>\n",
       "      <td>val</td>\n",
       "      <td>norm logreg</td>\n",
       "      <td>0.846503</td>\n",
       "      <td>0.857911</td>\n",
       "    </tr>\n",
       "    <tr>\n",
       "      <th>16</th>\n",
       "      <td>val</td>\n",
       "      <td>mlp</td>\n",
       "      <td>0.849542</td>\n",
       "      <td>0.861036</td>\n",
       "    </tr>\n",
       "    <tr>\n",
       "      <th>17</th>\n",
       "      <td>val</td>\n",
       "      <td>logreg</td>\n",
       "      <td>0.850544</td>\n",
       "      <td>0.862045</td>\n",
       "    </tr>\n",
       "  </tbody>\n",
       "</table>\n",
       "</div>"
      ],
      "text/plain": [
       "      set       strategy       mAP  mAP matched\n",
       "0   train            min  0.837629     0.851216\n",
       "1   train            max  0.943803     0.959212\n",
       "2   train         median  0.962038     0.977801\n",
       "3   train  weighted_mean  0.963164     0.978928\n",
       "4   train           mean  0.964042     0.979827\n",
       "5   train         center  0.964150     0.979935\n",
       "6   train            mlp  0.972242     0.988167\n",
       "7   train         logreg  0.972398     0.988329\n",
       "8   train    norm logreg  0.973629     0.989607\n",
       "9     val            min  0.685299     0.693996\n",
       "10    val            max  0.809548     0.820199\n",
       "11    val         median  0.838892     0.850147\n",
       "12    val  weighted_mean  0.842399     0.853709\n",
       "13    val         center  0.844172     0.855501\n",
       "14    val           mean  0.844815     0.856167\n",
       "15    val    norm logreg  0.846503     0.857911\n",
       "16    val            mlp  0.849542     0.861036\n",
       "17    val         logreg  0.850544     0.862045"
      ]
     },
     "execution_count": 24,
     "metadata": {},
     "output_type": "execute_result"
    }
   ],
   "source": [
    "df = result_df(results)\n",
    "df"
   ]
  },
  {
   "cell_type": "code",
   "execution_count": 25,
   "metadata": {},
   "outputs": [],
   "source": [
    "def latex_table(df, row_names):\n",
    "    output = \"\"\n",
    "    for (idx, row), row_name in zip(df[df['set'] == 'val'].iterrows(), row_names):\n",
    "        output += row_name\n",
    "        output += ' & ' + f\"{row['mAP'] * 100:.1f}\"\n",
    "        output += ' & ' + f\"{row['mAP matched'] * 100:.1f}\"\n",
    "        output += ' \\\\\\\\\\n'\n",
    "    return output"
   ]
  },
  {
   "cell_type": "code",
   "execution_count": 26,
   "metadata": {},
   "outputs": [
    {
     "name": "stdout",
     "output_type": "stream",
     "text": [
      "Min & 68.5 & 69.4 \\\\\n",
      "Max & 81.0 & 82.0 \\\\\n",
      "Median & 83.9 & 85.0 \\\\\n",
      "Weighted Mean & 84.2 & 85.4 \\\\\n",
      "Center & 84.4 & 85.6 \\\\\n",
      "Mean & 84.5 & 85.6 \\\\\n",
      "Norm LogReg & 84.7 & 85.8 \\\\\n",
      "MLP & 85.0 & 86.1 \\\\\n",
      "LogReg & 85.1 & 86.2 \\\\\n",
      "\n"
     ]
    }
   ],
   "source": [
    "print(latex_table(df, ['Min', 'Max', 'Median', 'Weighted Mean', 'Center', 'Mean', 'Norm LogReg', 'MLP', 'LogReg']))"
   ]
  }
 ],
 "metadata": {
  "kernelspec": {
   "display_name": "Python 3",
   "language": "python",
   "name": "python3"
  },
  "language_info": {
   "codemirror_mode": {
    "name": "ipython",
    "version": 3
   },
   "file_extension": ".py",
   "mimetype": "text/x-python",
   "name": "python",
   "nbconvert_exporter": "python",
   "pygments_lexer": "ipython3",
   "version": "3.7.4"
  }
 },
 "nbformat": 4,
 "nbformat_minor": 4
}
